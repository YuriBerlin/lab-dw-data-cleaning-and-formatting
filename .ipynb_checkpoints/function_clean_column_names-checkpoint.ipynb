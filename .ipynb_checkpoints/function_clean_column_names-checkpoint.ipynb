{
 "cells": [
  {
   "cell_type": "code",
   "execution_count": 1,
   "id": "9ca12ee1",
   "metadata": {},
   "outputs": [],
   "source": [
    "def format_columns(df):\n",
    "    import pandas as pd\n",
    "    import re\n",
    "    col_list = df.columns\n",
    "    col_list = pd.Series(col_list)\n",
    "\n",
    "    col_list = col_list.apply(lambda i: i.lower())\n",
    "    col_list = col_list.apply(lambda i: i.replace(' ','_'))\n",
    "    col_list = col_list.apply(lambda i: re.sub('st', 'state', i) if re.search(r'^st$', i) else i)\n",
    "    df.columns = col_list \n",
    "\n",
    "    return df"
   ]
  }
 ],
 "metadata": {
  "kernelspec": {
   "display_name": "Python 3 (ipykernel)",
   "language": "python",
   "name": "python3"
  },
  "language_info": {
   "codemirror_mode": {
    "name": "ipython",
    "version": 3
   },
   "file_extension": ".py",
   "mimetype": "text/x-python",
   "name": "python",
   "nbconvert_exporter": "python",
   "pygments_lexer": "ipython3",
   "version": "3.11.5"
  }
 },
 "nbformat": 4,
 "nbformat_minor": 5
}
